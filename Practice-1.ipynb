{
 "cells": [
  {
   "cell_type": "code",
   "execution_count": 1,
   "id": "079ad065",
   "metadata": {},
   "outputs": [
    {
     "name": "stdout",
     "output_type": "stream",
     "text": [
      "Total Bill:  310\n"
     ]
    }
   ],
   "source": [
    "i1, i2, i3 = map(int, input().split())\n",
    "q1, q2, q3 = map(int, input().split())\n",
    "print(\"Total Bill: \", i1*q1 + i2*q2 + i3*q3)"
   ]
  },
  {
   "cell_type": "code",
   "execution_count": 3,
   "id": "fe8e6158",
   "metadata": {},
   "outputs": [
    {
     "name": "stdout",
     "output_type": "stream",
     "text": [
      "Sum:  30\n",
      "Diff:  -10\n",
      "Product:  200\n",
      "Quotient:  0\n",
      "Reminder:  10\n"
     ]
    }
   ],
   "source": [
    "a = int(input(\"Enter First Number: \"))\n",
    "b = int(input(\"Enter Second Number: \"))\n",
    "print(\"Sum: \", a + b)\n",
    "print(\"Diff: \", a - b)\n",
    "print(\"Product: \", a * b)\n",
    "print(\"Quotient: \", a // b)\n",
    "print(\"Reminder: \", a % b)"
   ]
  },
  {
   "cell_type": "code",
   "execution_count": 6,
   "id": "276da74c",
   "metadata": {},
   "outputs": [
    {
     "name": "stdout",
     "output_type": "stream",
     "text": [
      "Fail\n"
     ]
    }
   ],
   "source": [
    "marks = int(input(\"Enter marks: \"))\n",
    "if marks >= 90:\n",
    "    print(\"A+\")\n",
    "elif marks in range(80, 90):\n",
    "    print(\"A\")\n",
    "elif marks in range(70, 80):\n",
    "    print(\"B\")\n",
    "elif marks in range(60, 70):\n",
    "    print(\"C\")\n",
    "else:\n",
    "    print(\"Fail\")"
   ]
  },
  {
   "cell_type": "code",
   "execution_count": 8,
   "id": "10d78c7f",
   "metadata": {},
   "outputs": [
    {
     "name": "stdout",
     "output_type": "stream",
     "text": [
      "Highest marks: 90\n",
      "Least marks: 45\n",
      "Average marks: 71.4\n"
     ]
    }
   ],
   "source": [
    "mark_list = list(map(int, input().split()))\n",
    "print(\"Highest marks:\", max(mark_list))\n",
    "print(\"Least marks:\", min(mark_list))\n",
    "print(\"Average marks:\", sum(mark_list)/len(mark_list))"
   ]
  },
  {
   "cell_type": "code",
   "execution_count": null,
   "id": "e43e3975",
   "metadata": {},
   "outputs": [
    {
     "name": "stdout",
     "output_type": "stream",
     "text": [
      "9123456780\n"
     ]
    }
   ],
   "source": [
    "\"\"\"\n",
    "phn_dict = {\n",
    "    \"Suhel\": 9876543210,\n",
    "    \"Ravi\": 9123456780,\n",
    "    \"Anita\": 9988776655\n",
    "}\n",
    "print(phn_dict[\"Ravi\"])\"\"\"\n"
   ]
  },
  {
   "cell_type": "code",
   "execution_count": 11,
   "id": "b44fb1fb",
   "metadata": {},
   "outputs": [
    {
     "name": "stdout",
     "output_type": "stream",
     "text": [
      "1234\n"
     ]
    }
   ],
   "source": [
    "n = int(input(\"Enter no. of entries\"))\n",
    "phn_dict = {\n",
    "    input(\"Enter Key\").lower():input(\"Enter value\") for _ in range(n)\n",
    "}\n",
    "s_key = input(\"Enter search key\").lower()\n",
    "print(phn_dict[s_key])"
   ]
  },
  {
   "cell_type": "code",
   "execution_count": null,
   "id": "6116f572",
   "metadata": {},
   "outputs": [],
   "source": [
    "st = input().lower()\n",
    "x = st.split()\n",
    "vow = \"aeiou\"\n",
    "for i in vow:\n",
    "    "
   ]
  },
  {
   "cell_type": "code",
   "execution_count": null,
   "id": "276e9f08",
   "metadata": {},
   "outputs": [],
   "source": []
  }
 ],
 "metadata": {
  "kernelspec": {
   "display_name": "Python 3",
   "language": "python",
   "name": "python3"
  },
  "language_info": {
   "codemirror_mode": {
    "name": "ipython",
    "version": 3
   },
   "file_extension": ".py",
   "mimetype": "text/x-python",
   "name": "python",
   "nbconvert_exporter": "python",
   "pygments_lexer": "ipython3",
   "version": "3.10.0"
  }
 },
 "nbformat": 4,
 "nbformat_minor": 5
}

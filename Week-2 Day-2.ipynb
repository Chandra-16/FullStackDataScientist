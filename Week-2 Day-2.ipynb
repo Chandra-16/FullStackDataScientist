{
 "cells": [
  {
   "cell_type": "code",
   "execution_count": 64,
   "id": "2ea56320",
   "metadata": {},
   "outputs": [
    {
     "name": "stdout",
     "output_type": "stream",
     "text": [
      "Total characters (including newlines): 4\n",
      "Characters excluding newlines: 2\n",
      "Count of 'e': 0\n"
     ]
    }
   ],
   "source": [
    "with open('data.txt', 'r') as f:\n",
    "    content = f.read()\n",
    "\n",
    "    total_characters = len(content)\n",
    "    characters_without_newlines = len(content.replace('\\n', ''))\n",
    "    e_count = content.count('e')\n",
    "\n",
    "    print(f\"Total characters (including newlines): {total_characters}\")\n",
    "    print(f\"Characters excluding newlines: {characters_without_newlines}\")\n",
    "    print(f\"Count of 'e': {e_count}\")"
   ]
  },
  {
   "cell_type": "code",
   "execution_count": 4,
   "id": "be42e173",
   "metadata": {},
   "outputs": [
    {
     "name": "stdout",
     "output_type": "stream",
     "text": [
      "Sum:  11\n",
      "Difference -1\n",
      "Product 30\n",
      "Quotient 0\n",
      "Reminder 5\n"
     ]
    }
   ],
   "source": [
    "a,b = map(int, input().split())\n",
    "print(\"Sum: \", a+b)\n",
    "print(\"Difference\", a-b)\n",
    "print(\"Product\", a*b)\n",
    "print(\"Quotient\", a//b)\n",
    "print(\"Reminder\", a % b)"
   ]
  },
  {
   "cell_type": "code",
   "execution_count": 10,
   "id": "a25f822e",
   "metadata": {},
   "outputs": [
    {
     "name": "stdout",
     "output_type": "stream",
     "text": [
      "Varun\n",
      "Reddy\n",
      "Aravind\n"
     ]
    }
   ],
   "source": [
    "## 8. Problem: Given a dictionary of student names and attendance %, find defaulters (<75%).\n",
    "stud = {\n",
    "    \"Prabhath\" : 86,\n",
    "    \"Chandra\":90,\n",
    "    \"Varun\":63,\n",
    "    \"Kumar\":97,\n",
    "    \"Reddy\":50,\n",
    "    \"Aravind\":75,\n",
    "    \"Siddiq\":102,\n",
    "}\n",
    "\n",
    "for i, j in stud.items():\n",
    "    if j <= 75:\n",
    "        print(i)"
   ]
  },
  {
   "cell_type": "code",
   "execution_count": 13,
   "id": "ba540761",
   "metadata": {},
   "outputs": [
    {
     "name": "stdout",
     "output_type": "stream",
     "text": [
      "10\n"
     ]
    }
   ],
   "source": [
    "## Sum of digits of numbers\n",
    "n = int(input())\n",
    "s = 0\n",
    "while n > 0:\n",
    "    rem = n % 10\n",
    "    s += rem\n",
    "    n = n // 10\n",
    "print(s)"
   ]
  },
  {
   "cell_type": "code",
   "execution_count": 16,
   "id": "51e60f4a",
   "metadata": {},
   "outputs": [
    {
     "name": "stdout",
     "output_type": "stream",
     "text": [
      "7\n"
     ]
    }
   ],
   "source": [
    "## Max of 3 numbers\n",
    "a, b, c = map(int, input().split())\n",
    "print(max(a,b,c))"
   ]
  },
  {
   "cell_type": "code",
   "execution_count": 17,
   "id": "8e85ebe5",
   "metadata": {},
   "outputs": [
    {
     "name": "stdout",
     "output_type": "stream",
     "text": [
      "1 9\n"
     ]
    }
   ],
   "source": [
    "## Min and max of list\n",
    "l = list(map(int, input().split()))\n",
    "print(min(l), max(l))"
   ]
  },
  {
   "cell_type": "code",
   "execution_count": null,
   "id": "d3682b00",
   "metadata": {},
   "outputs": [
    {
     "name": "stdout",
     "output_type": "stream",
     "text": [
      "Total Bill: 4810 rs\n",
      "Bill Processing Finished...\n"
     ]
    }
   ],
   "source": [
    "## 23. Electricity bill\n",
    "units = int(input())\n",
    "try:\n",
    "    if units in range(0, 101):\n",
    "        cst = units * 5\n",
    "    elif units in range(101, 201):\n",
    "        cst = 500 + (units - 100) * 7\n",
    "    elif units > 200:\n",
    "        cst = 1200 + (units - 200) * 10\n",
    "    else:\n",
    "        print(\"Invalid Input\")\n",
    "    print(\"Total Bill:\", cst, \"Rs\")\n",
    "except:\n",
    "    print(\"Invalid Input\")\n",
    "finally:\n",
    "    print(\"Bill Processing Finished...\")\n",
    "\n"
   ]
  },
  {
   "cell_type": "code",
   "execution_count": 29,
   "id": "6c2fc9ad",
   "metadata": {},
   "outputs": [
    {
     "name": "stdout",
     "output_type": "stream",
     "text": [
      "aravind kamal koushik prabhath siddiq varun\n"
     ]
    }
   ],
   "source": [
    "## 16. Sort list of names\n",
    "lst = list(input().split())\n",
    "print(*sorted(lst))"
   ]
  },
  {
   "cell_type": "code",
   "execution_count": 37,
   "id": "e2b6a77e",
   "metadata": {},
   "outputs": [
    {
     "name": "stdout",
     "output_type": "stream",
     "text": [
      "-4321\n",
      "-4321\n"
     ]
    }
   ],
   "source": [
    "## 17. Number reversal\n",
    "n = int(input())\n",
    "s = str(n)\n",
    "if n < 0:   \n",
    "    print(\"-\"+s[:0:-1])\n",
    "else:\n",
    "    print(s[::-1])\n",
    "## Number reversal without strings\n",
    "rnum = 0\n",
    "tmp = abs(n)\n",
    "\n",
    "while tmp > 0:\n",
    "        rem = tmp % 10\n",
    "        rnum = (rnum * 10) + rem\n",
    "        tmp = tmp // 10\n",
    "\n",
    "if n < 0:\n",
    "        rnum *= -1\n",
    "print(rnum)"
   ]
  },
  {
   "cell_type": "code",
   "execution_count": 40,
   "id": "f5d679a5",
   "metadata": {},
   "outputs": [
    {
     "name": "stdout",
     "output_type": "stream",
     "text": [
      "Counter({'Zero': 4, 'Negative': 2, 'Positive': 1})\n"
     ]
    }
   ],
   "source": [
    "##18. Find count of positive, negative and 0 in a given list\n",
    "from collections import Counter\n",
    "l1 = list(map(int, input().split()))\n",
    "ctgry = []\n",
    "for i in l1:\n",
    "    if i < 0:\n",
    "        ctgry.append(\"Negative\")\n",
    "    elif i > 0:\n",
    "        ctgry.append(\"Positive\")\n",
    "    else:\n",
    "        ctgry.append(\"Zero\")\n",
    "print(Counter(ctgry))\n"
   ]
  },
  {
   "cell_type": "code",
   "execution_count": 71,
   "id": "f732cff8",
   "metadata": {},
   "outputs": [
    {
     "name": "stdout",
     "output_type": "stream",
     "text": [
      "Not Prime\n"
     ]
    }
   ],
   "source": [
    "def check_prime(n):\n",
    "    if n <= 1:\n",
    "        return \"Not Prime\"\n",
    "    for i in range(2, n):\n",
    "        if n % i == 0:\n",
    "            return \"Not Prime\"\n",
    "    return \"Prime\"\n",
    "\n",
    "n = int(input())\n",
    "print(check_prime(n))"
   ]
  },
  {
   "cell_type": "code",
   "execution_count": null,
   "id": "3616ae01",
   "metadata": {},
   "outputs": [],
   "source": []
  },
  {
   "cell_type": "code",
   "execution_count": null,
   "id": "26e73f1b",
   "metadata": {},
   "outputs": [],
   "source": []
  }
 ],
 "metadata": {
  "kernelspec": {
   "display_name": "Python 3",
   "language": "python",
   "name": "python3"
  },
  "language_info": {
   "codemirror_mode": {
    "name": "ipython",
    "version": 3
   },
   "file_extension": ".py",
   "mimetype": "text/x-python",
   "name": "python",
   "nbconvert_exporter": "python",
   "pygments_lexer": "ipython3",
   "version": "3.10.0"
  }
 },
 "nbformat": 4,
 "nbformat_minor": 5
}

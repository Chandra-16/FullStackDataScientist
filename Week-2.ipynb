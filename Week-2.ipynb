{
 "cells": [
  {
   "cell_type": "code",
   "execution_count": 2,
   "id": "dada9547",
   "metadata": {},
   "outputs": [],
   "source": [
    "import math\n",
    "import string as strn\n",
    "import random"
   ]
  },
  {
   "cell_type": "markdown",
   "id": "32189adc",
   "metadata": {},
   "source": [
    "## Strings"
   ]
  },
  {
   "cell_type": "code",
   "execution_count": null,
   "id": "39ab6002",
   "metadata": {},
   "outputs": [
    {
     "name": "stdout",
     "output_type": "stream",
     "text": [
      "2\n",
      "3\n",
      "5\n",
      "7\n",
      "11\n",
      "13\n",
      "17\n",
      "19\n"
     ]
    }
   ],
   "source": [
    "## 1. Generate Prime numbers up to n\n",
    "n = int(input())\n",
    "for num in range(1,n+1):\n",
    "    if num > 1:\n",
    "        for i in range(2,num):\n",
    "            if num % i == 0:\n",
    "                break\n",
    "        else:\n",
    "            print(num)"
   ]
  },
  {
   "cell_type": "code",
   "execution_count": 6,
   "id": "8878be63",
   "metadata": {},
   "outputs": [
    {
     "name": "stdout",
     "output_type": "stream",
     "text": [
      "Palindrome\n"
     ]
    }
   ],
   "source": [
    "## 2. Check Palindrome\n",
    "s = input()\n",
    "s = s.replace(\" \", \"\").lower()\n",
    "if s == s[::-1]:\n",
    "    print(\"Palindrome\")\n",
    "else:\n",
    "    print(\"Not a Palindrome\")"
   ]
  },
  {
   "cell_type": "code",
   "execution_count": null,
   "id": "6069e980",
   "metadata": {},
   "outputs": [
    {
     "name": "stdout",
     "output_type": "stream",
     "text": [
      "Not Anagrams\n"
     ]
    }
   ],
   "source": [
    "## 3. Anagram Checker\n",
    "s1, s2  = input().split()\n",
    "s1, s2 = sorted(s1).lower(), sorted(s2).lower()\n",
    "print(\"Anagrams\" if s1 == s2 else \"Not Anagrams\")"
   ]
  },
  {
   "cell_type": "code",
   "execution_count": 4,
   "id": "1a9172cd",
   "metadata": {},
   "outputs": [
    {
     "name": "stdout",
     "output_type": "stream",
     "text": [
      "Vowel count: 2\n",
      "Consonant count: 3\n"
     ]
    }
   ],
   "source": [
    "## 4. Vowel, Consonant count\n",
    "s = input().lower()\n",
    "c = c2 = 0\n",
    "for i in s:\n",
    "    if i.isalpha():\n",
    "        if i in \"aeiou\":\n",
    "            c += 1\n",
    "        else:\n",
    "            c2 += 1\n",
    "print(\"Vowel count:\", c)\n",
    "print(\"Consonant count:\", c2)\n",
    "    "
   ]
  },
  {
   "cell_type": "code",
   "execution_count": 10,
   "id": "d166b32d",
   "metadata": {},
   "outputs": [
    {
     "name": "stdout",
     "output_type": "stream",
     "text": [
      "Longest Word: awesome\n"
     ]
    }
   ],
   "source": [
    "## 5. Longest Word Finder\n",
    "s = input().lower()\n",
    "s2 = s.split()\n",
    "lrg = max(s2, key = len)\n",
    "print(\"Longest Word:\", lrg)\n",
    "    "
   ]
  },
  {
   "cell_type": "markdown",
   "id": "ab0426e0",
   "metadata": {},
   "source": [
    "## Python Modules"
   ]
  },
  {
   "cell_type": "code",
   "execution_count": 17,
   "id": "fb4ce946",
   "metadata": {},
   "outputs": [
    {
     "name": "stdout",
     "output_type": "stream",
     "text": [
      "Generated password: +UV8Ay*E0B\n"
     ]
    }
   ],
   "source": [
    "## 1. Random Password generator\n",
    "\n",
    "def genpass(length):\n",
    "    chars = strn.ascii_letters + strn.digits + strn.punctuation\n",
    "    pswd = ''.join(random.choices(chars, k=length))\n",
    "    return pswd\n",
    "\n",
    "length = int(input())\n",
    "print(\"Generated password:\", genpass(length))\n"
   ]
  },
  {
   "cell_type": "code",
   "execution_count": 5,
   "id": "a3e7b9f0",
   "metadata": {},
   "outputs": [
    {
     "name": "stdout",
     "output_type": "stream",
     "text": [
      "Menu\n",
      "1. sqrt\n",
      "2. factorial\n",
      "3. sin\n",
      "4. cos\n",
      "5. Exit\n",
      "Sine value:  -0.9589242746631385\n"
     ]
    }
   ],
   "source": [
    "## 2. Math calculator\n",
    "n = int(input(\"Enter your number\"))\n",
    "print(\"Menu\")\n",
    "print(\"1. sqrt\\n2. factorial\\n3. sin\\n4. cos\\n5. Exit\")\n",
    "ch = int(input(\"Enter choice\"))\n",
    "while ch != 5:\n",
    "    if ch == 1:\n",
    "        print(\"Sqrt: \", math.sqrt(n))\n",
    "        break\n",
    "    elif ch == 2:\n",
    "        print(\"Factorial: \", math.factorial(n))\n",
    "        break\n",
    "    elif ch == 3:\n",
    "        print(\"Sine value: \", math.sin(n))\n",
    "        break\n",
    "    elif ch == 4:\n",
    "        print(\"Cos value: \", math.cos(n))\n",
    "        break\n",
    "    elif ch == 5:\n",
    "        print(\"Exitting...\")\n",
    "        exit(0)\n",
    "    else:\n",
    "        print(\"Invalid choice. Enter again.\")\n",
    "        break"
   ]
  },
  {
   "cell_type": "code",
   "execution_count": 23,
   "id": "f3749240",
   "metadata": {},
   "outputs": [],
   "source": [
    "\n",
    "from collections import Counter\n",
    "import time"
   ]
  },
  {
   "cell_type": "code",
   "execution_count": 9,
   "id": "5a9c4e36",
   "metadata": {},
   "outputs": [
    {
     "name": "stdout",
     "output_type": "stream",
     "text": [
      "Counter({'hello': 1, 'world': 1})\n"
     ]
    }
   ],
   "source": [
    "## 3. Word Frequency counter\n",
    "s = input().split()\n",
    "print(Counter(s))"
   ]
  },
  {
   "cell_type": "code",
   "execution_count": 22,
   "id": "c261c995",
   "metadata": {},
   "outputs": [
    {
     "name": "stdout",
     "output_type": "stream",
     "text": [
      "stormy 4\n"
     ]
    }
   ],
   "source": [
    "## 4. Weather simulator\n",
    "wthr = [\"sunny\", \"rainy\", \"cloudy\", \"stormy\", \"hail\"]\n",
    "temp = [30,20,10,4,40]\n",
    "print(random.choice(wthr), random.choice(temp))"
   ]
  },
  {
   "cell_type": "code",
   "execution_count": 27,
   "id": "bfcd8f52",
   "metadata": {},
   "outputs": [
    {
     "name": "stdout",
     "output_type": "stream",
     "text": [
      "3\n",
      "2\n",
      "1\n",
      "0\n",
      "Time Up!!\n"
     ]
    }
   ],
   "source": [
    "## 5. Timer\n",
    "n = int(input(\"Enter time in seconds\"))\n",
    "for i in range(n, -1, -1):\n",
    "    print(i)\n",
    "    time.sleep(1)\n",
    "print(\"Time Up!!\")"
   ]
  },
  {
   "cell_type": "code",
   "execution_count": null,
   "id": "2bbd2a2e",
   "metadata": {},
   "outputs": [],
   "source": []
  },
  {
   "cell_type": "code",
   "execution_count": null,
   "id": "5e2ff085",
   "metadata": {},
   "outputs": [],
   "source": []
  }
 ],
 "metadata": {
  "kernelspec": {
   "display_name": "Python 3",
   "language": "python",
   "name": "python3"
  },
  "language_info": {
   "codemirror_mode": {
    "name": "ipython",
    "version": 3
   },
   "file_extension": ".py",
   "mimetype": "text/x-python",
   "name": "python",
   "nbconvert_exporter": "python",
   "pygments_lexer": "ipython3",
   "version": "3.10.0"
  }
 },
 "nbformat": 4,
 "nbformat_minor": 5
}
